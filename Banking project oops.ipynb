{
 "cells": [
  {
   "cell_type": "markdown",
   "id": "7cbc9b3d-d148-48f6-8e31-797bba024013",
   "metadata": {
    "panel-layout": {
     "height": 60.59375,
     "visible": true,
     "width": 100
    }
   },
   "source": [
    "# Step 1: Base Code"
   ]
  },
  {
   "cell_type": "code",
   "execution_count": 25,
   "id": "96245f90-d868-4a07-a324-4768e3109dab",
   "metadata": {},
   "outputs": [],
   "source": [
    "from datetime import datetime\n",
    "from uuid import uuid4\n",
    "\n",
    "\n",
    "class BankAccount:\n",
    "    def __init__(self, holder_name, balance=0):\n",
    "        self.account_number = str(uuid4())[:4]   \n",
    "        self.holder_name = holder_name\n",
    "        self.__balance = float(balance)\n",
    "        self.transactions = []   # to store transaction history\n",
    "\n",
    "    def deposit(self, amount):\n",
    "        if amount <= 0:\n",
    "            print(\"Invalid deposit amount\")\n",
    "            return False\n",
    "        self.__balance += amount\n",
    "        self.transactions.append((datetime.now(), f\"Deposited {amount}\"))\n",
    "        print(f\"Deposited {amount}. New Balance = {self.__balance}\")\n",
    "        return True\n",
    "\n",
    "    def withdraw(self, amount):\n",
    "        if amount <= 0:\n",
    "            print(\"Invalid withdrawal amount\")\n",
    "            return False\n",
    "        if amount <= self.__balance:\n",
    "            self.__balance -= amount\n",
    "            self.transactions.append((datetime.now(), f\"Withdrawn {amount}\"))\n",
    "            print(f\"Withdrawn {amount}. New Balance = {self.__balance}\")\n",
    "            return True\n",
    "        else:\n",
    "            print(\"Insufficient balance!\")\n",
    "            return False\n",
    "\n",
    "    def get_balance(self):\n",
    "        return self.__balance\n",
    "\n",
    "    def get_account_number(self):\n",
    "        return self.account_number\n",
    "\n",
    "    def show_transactions(self):\n",
    "        print(f\"--- Transactions for {self.holder_name} ---\")\n",
    "        for t in self.transactions:\n",
    "            print(t[0], \"->\", t[1])\n",
    "        print(\"----------------------------------\")\n",
    "\n",
    "    def _update_balance(self, delta, note=\"\"):\n",
    "        self.__balance += delta\n",
    "        self.transactions.append((datetime.now(), note))\n"
   ]
  },
  {
   "cell_type": "markdown",
   "id": "c644a426-fbbe-4071-9a7f-b5c5a2b9eca4",
   "metadata": {
    "panel-layout": {
     "height": 60.59375,
     "visible": true,
     "width": 100
    }
   },
   "source": [
    " # Step 2: Savings Account"
   ]
  },
  {
   "cell_type": "code",
   "execution_count": 26,
   "id": "fecc3c6f-c943-47b2-ab43-d7b0914023f6",
   "metadata": {},
   "outputs": [],
   "source": [
    "class SavingsAccount(BankAccount):\n",
    "    def __init__(self, holder_name, balance=0, interest_rate=0.05):\n",
    "        super().__init__(holder_name, balance)\n",
    "        self.interest_rate = interest_rate\n",
    "\n",
    "    def add_interest(self):\n",
    "        interest = self.get_balance() * self.interest_rate\n",
    "        self.deposit(interest)\n",
    "        print(f\"Interest {interest} added.\")"
   ]
  },
  {
   "cell_type": "markdown",
   "id": "d6928af4-0607-49e0-878f-d9d177854290",
   "metadata": {
    "panel-layout": {
     "height": 60.59375,
     "visible": true,
     "width": 100
    }
   },
   "source": [
    "# Step 3: Current Account"
   ]
  },
  {
   "cell_type": "code",
   "execution_count": 27,
   "id": "3dff3a03-ab81-4230-a176-a68aec1850ea",
   "metadata": {},
   "outputs": [],
   "source": [
    "class CurrentAccount(BankAccount):\n",
    "    def __init__(self, holder_name, balance=0, overdraft_limit=5000):\n",
    "        super().__init__(holder_name, balance)\n",
    "        self.overdraft_limit = overdraft_limit\n",
    "\n",
    "    def withdraw(self, amount):\n",
    "        if amount <= 0:\n",
    "            print(\"Invalid withdrawal amount\")\n",
    "            return False\n",
    "        allowed = self.get_balance() + self.overdraft_limit\n",
    "        if amount <= allowed:\n",
    "            self._update_balance(-amount, f\"Withdrawn {amount} with overdraft\")\n",
    "            print(f\"Withdrawn {amount} using overdraft. New Balance = {self.get_balance()}\")\n",
    "            return True\n",
    "        else:\n",
    "            print(\"Overdraft limit exceeded.\")\n",
    "            return False\n",
    "\n"
   ]
  },
  {
   "cell_type": "markdown",
   "id": "648a1c7a-9171-4d5f-a2df-6cb37ea79da2",
   "metadata": {
    "panel-layout": {
     "height": 60.593772888183594,
     "visible": true,
     "width": 100
    }
   },
   "source": [
    "# Step 4: Menu-Driven Banking System"
   ]
  },
  {
   "cell_type": "code",
   "execution_count": 30,
   "id": "9fa09a61-ef7a-48b7-a0d1-cfbd740b2821",
   "metadata": {},
   "outputs": [],
   "source": [
    "def banking_system():\n",
    "    print(\"=== Welcome to Hdfc Bank ===\")\n",
    "    accounts = {}\n",
    "\n",
    "    while True:\n",
    "        print(\"\\n1. Create Savings Account\")\n",
    "        print(\"2. Create Current Account\")\n",
    "        print(\"3. Deposit\")\n",
    "        print(\"4. Withdraw\")\n",
    "        print(\"5. Check Balance\")\n",
    "        print(\"6. Add Interest (Savings only)\")\n",
    "        print(\"7. Show Transactions\")\n",
    "        print(\"8. Exit\")\n",
    "\n",
    "        choice = input(\"Enter choice: \")\n",
    "\n",
    "        if choice == \"1\":\n",
    "            name = input(\"Enter holder name: \")\n",
    "            acc = SavingsAccount(name, balance=1000)   \n",
    "            accounts[acc.get_account_number()] = acc\n",
    "            print(f\"Savings Account created for {name}. Account No: {acc.get_account_number()}. Opening Balance: 1000\")\n",
    "\n",
    "        elif choice == \"2\":\n",
    "            name = input(\"Enter holder name: \")\n",
    "            acc = CurrentAccount(name, balance=1000)   \n",
    "            accounts[acc.get_account_number()] = acc\n",
    "            print(f\"Current Account created for {name}. Account No: {acc.get_account_number()}. Opening Balance: 1000\")\n",
    "\n",
    "        elif choice == \"3\":\n",
    "            acc_no = input(\"Enter Account No: \")\n",
    "            amount = float(input(\"Enter amount: \"))\n",
    "            if acc_no in accounts:\n",
    "                accounts[acc_no].deposit(amount)\n",
    "            else:\n",
    "                print(\"Account not found\")\n",
    "       \n",
    "        elif choice == \"4\":\n",
    "            print(\"Thank you for using Hdfc Bank!\")\n",
    "            break\n",
    "        else:\n",
    "            print(\"Invalid choice, try again.\")\n",
    "\n"
   ]
  },
  {
   "cell_type": "markdown",
   "id": "cce01d4a-ac7f-4779-9f76-e6c61de97ec1",
   "metadata": {
    "panel-layout": {
     "height": 60.59375,
     "visible": true,
     "width": 100
    }
   },
   "source": [
    "# Step 5: Run the System"
   ]
  },
  {
   "cell_type": "code",
   "execution_count": 31,
   "id": "293b6459-9598-4150-ad2c-369201566758",
   "metadata": {},
   "outputs": [
    {
     "name": "stdout",
     "output_type": "stream",
     "text": [
      "=== Welcome to Hdfc Bank ===\n",
      "\n",
      "1. Create Savings Account\n",
      "2. Create Current Account\n",
      "3. Deposit\n",
      "4. Withdraw\n",
      "5. Check Balance\n",
      "6. Add Interest (Savings only)\n",
      "7. Show Transactions\n",
      "8. Exit\n"
     ]
    },
    {
     "name": "stdin",
     "output_type": "stream",
     "text": [
      "Enter choice:  1\n",
      "Enter holder name:  ram\n"
     ]
    },
    {
     "name": "stdout",
     "output_type": "stream",
     "text": [
      "Savings Account created for ram. Account No: 71d3. Opening Balance: 1000\n",
      "\n",
      "1. Create Savings Account\n",
      "2. Create Current Account\n",
      "3. Deposit\n",
      "4. Withdraw\n",
      "5. Check Balance\n",
      "6. Add Interest (Savings only)\n",
      "7. Show Transactions\n",
      "8. Exit\n"
     ]
    },
    {
     "name": "stdin",
     "output_type": "stream",
     "text": [
      "Enter choice:  2\n",
      "Enter holder name:  samba\n"
     ]
    },
    {
     "name": "stdout",
     "output_type": "stream",
     "text": [
      "Current Account created for samba. Account No: 8f7d. Opening Balance: 1000\n",
      "\n",
      "1. Create Savings Account\n",
      "2. Create Current Account\n",
      "3. Deposit\n",
      "4. Withdraw\n",
      "5. Check Balance\n",
      "6. Add Interest (Savings only)\n",
      "7. Show Transactions\n",
      "8. Exit\n"
     ]
    },
    {
     "name": "stdin",
     "output_type": "stream",
     "text": [
      "Enter choice:  3\n",
      "Enter Account No:  71d3\n",
      "Enter amount:  1000\n"
     ]
    },
    {
     "name": "stdout",
     "output_type": "stream",
     "text": [
      "Deposited 1000.0. New Balance = 2000.0\n",
      "\n",
      "1. Create Savings Account\n",
      "2. Create Current Account\n",
      "3. Deposit\n",
      "4. Withdraw\n",
      "5. Check Balance\n",
      "6. Add Interest (Savings only)\n",
      "7. Show Transactions\n",
      "8. Exit\n"
     ]
    },
    {
     "name": "stdin",
     "output_type": "stream",
     "text": [
      "Enter choice:  4\n"
     ]
    },
    {
     "name": "stdout",
     "output_type": "stream",
     "text": [
      "Thank you for using Hdfc Bank!\n"
     ]
    }
   ],
   "source": [
    "if __name__ == \"__main__\":\n",
    "    banking_system()\n"
   ]
  },
  {
   "cell_type": "code",
   "execution_count": null,
   "id": "8321122a-375f-4ba1-a4ee-b774f3578e3b",
   "metadata": {},
   "outputs": [],
   "source": []
  }
 ],
 "metadata": {
  "kernelspec": {
   "display_name": "Python [conda env:base] *",
   "language": "python",
   "name": "conda-base-py"
  },
  "language_info": {
   "codemirror_mode": {
    "name": "ipython",
    "version": 3
   },
   "file_extension": ".py",
   "mimetype": "text/x-python",
   "name": "python",
   "nbconvert_exporter": "python",
   "pygments_lexer": "ipython3",
   "version": "3.13.5"
  },
  "panel-cell-order": [
   "7cbc9b3d-d148-48f6-8e31-797bba024013",
   "c644a426-fbbe-4071-9a7f-b5c5a2b9eca4",
   "d6928af4-0607-49e0-878f-d9d177854290",
   "648a1c7a-9171-4d5f-a2df-6cb37ea79da2",
   "cce01d4a-ac7f-4779-9f76-e6c61de97ec1"
  ]
 },
 "nbformat": 4,
 "nbformat_minor": 5
}
